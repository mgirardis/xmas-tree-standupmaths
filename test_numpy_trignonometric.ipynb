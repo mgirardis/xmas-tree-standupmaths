{
 "cells": [
  {
   "cell_type": "code",
   "execution_count": 2,
   "metadata": {},
   "outputs": [],
   "source": [
    "import numpy"
   ]
  },
  {
   "cell_type": "code",
   "execution_count": 3,
   "metadata": {},
   "outputs": [
    {
     "output_type": "stream",
     "name": "stdout",
     "text": [
      "vector u = [0.5       0.8660254]\n    angle with +x = 60\n\nvector v = [0.8660254 0.5      ]\n    angle with +x = 30\n\nangle between u and v (expected = 30)\n    given by dot product   = 30\n    given by cross product = 30\n"
     ]
    }
   ],
   "source": [
    "# testing some trigonometric functions from numpy\n",
    "\n",
    "to_deg = lambda arc: arc * 180.0/numpy.pi\n",
    "def myatan(x,y):\n",
    "    return numpy.pi*(1.0-0.5*(1+numpy.sign(x))*(1-numpy.sign(y**2))-0.25*(2+numpy.sign(x))*numpy.sign(y))-numpy.sign(x*y)*numpy.arctan((numpy.abs(x)-numpy.abs(y))/(numpy.abs(x)+numpy.abs(y)))\n",
    "def myacos(x):\n",
    "    x[numpy.abs(x) > 1.0] = numpy.round(x[numpy.abs(x) > 1.0])\n",
    "    return numpy.arccos(x)\n",
    "def myasin(x):\n",
    "    x[numpy.abs(x) > 1.0] = numpy.round(x[numpy.abs(x) > 1.0])\n",
    "    return numpy.arcsin(x)\n",
    "def is_vector(v,fromnumpy=True):\n",
    "    try:\n",
    "        isSingleton = numpy.sum(numpy.asarray(numpy.asarray(v.shape) != 1,dtype=int)) == 1 # there only one dimension that has more than 1 elements\n",
    "        isShapeLenOne = len(v.shape) == 1\n",
    "    except AttributeError:\n",
    "        if (not fromnumpy) and ((type(v) is list) or (type(v) is tuple)):\n",
    "            return not numpy.isscalar(v)\n",
    "        isShapeLenOne = False\n",
    "        isSingleton = False\n",
    "    return (not numpy.isscalar(v)) and (isShapeLenOne or isSingleton)\n",
    "def pback(x,v,ascol=True):\n",
    "    # appends v to the end of x if x is vector\n",
    "    # if x is a matrix, appends v as column if ascol is True, or as row otherwise\n",
    "    if is_vector(x):\n",
    "        if len(x.shape) == 1: # just an array, not col, not row\n",
    "            return numpy.append(x,v)\n",
    "        else:\n",
    "            if x.shape[0] == 1:\n",
    "                return numpy.append(x,v).reshape((1,x.shape[1]+1))\n",
    "            else:\n",
    "                return numpy.append(x,v).reshape((x.shape[0]+1,1))\n",
    "    else:\n",
    "        if numpy.isscalar(v):\n",
    "            if ascol:\n",
    "                v = v + numpy.zeros((x.shape[0],1))\n",
    "                axis = 1\n",
    "            else:\n",
    "                v = v + numpy.zeros((1,x.shape[1]))\n",
    "                axis = 0\n",
    "        return numpy.append(x,v,axis=axis)\n",
    "\n",
    "# first, we calculate the angle between two vectors\n",
    "u = numpy.array([0.5,numpy.sqrt(3.0)/2.0])\n",
    "v = numpy.array([numpy.sqrt(3.0)/2.0,0.5])\n",
    "\n",
    "theta_u = numpy.arctan2(u[1],u[0])\n",
    "theta_v = numpy.arctan2(v[1],v[0])\n",
    "\n",
    "theta_uv_dot = numpy.arccos(numpy.dot(u,v)/(numpy.linalg.norm(u)*numpy.linalg.norm(v)))\n",
    "theta_uv_cross = numpy.arcsin(numpy.linalg.norm( numpy.cross(pback(u,0),pback(v,0)) )/(numpy.linalg.norm(u)*numpy.linalg.norm(v)))\n",
    "\n",
    "print('vector u = ' + str(u))\n",
    "print('    angle with +x = {:g}'.format(to_deg(theta_u)))\n",
    "\n",
    "print('')\n",
    "\n",
    "print('vector v = ' + str(v))\n",
    "print('    angle with +x = {:g}'.format(to_deg(theta_v)))\n",
    "\n",
    "print('')\n",
    "\n",
    "print('angle between u and v (expected = 30)')\n",
    "print('    given by dot product   = {:g}'.format(  to_deg(  theta_uv_dot  )  )  )\n",
    "print('    given by cross product = {:g}'.format(  to_deg(  theta_uv_cross  )  )  )"
   ]
  },
  {
   "cell_type": "code",
   "execution_count": 88,
   "metadata": {},
   "outputs": [
    {
     "output_type": "stream",
     "name": "stdout",
     "text": [
      "vector v = [0.8660254 0.5      ]\n    angle with +x = 30\n\neach u vector angles with +x\n[ 30.  60.  90. 120. 150. 180. 210. 240. 270. 300. 330.   0.]\n\nexpected angles between u and v: th_u - th_v\n[  0.  30.  60.  90. 120. 150. 180. 210. 240. 270. 300. -30.]\n\nangles from u.v:\n[  0.  30.  60.  90. 120. 150. 180. 150. 120.  90.  60.  30.]\n\nangles from u x v:\n[ 0. 30. 60. 90. 60. 30.  0. 30. 60. 90. 60. 30.]\n"
     ]
    }
   ],
   "source": [
    "# testing some trigonometric functions from numpy\n",
    "\n",
    "# first, we calculate the angle between two vectors\n",
    "u = numpy.array([[numpy.sqrt(3.0)/2.0,0.5],\n",
    "                 [0.5,numpy.sqrt(3.0)/2.0],\n",
    "                 [0.0,1.0],\n",
    "                 [-0.5,numpy.sqrt(3.0)/2.0],\n",
    "                 [-numpy.sqrt(3.0)/2.0,0.5],\n",
    "                 [-1.0,0.0],\n",
    "                 [-numpy.sqrt(3.0)/2.0,-0.5],\n",
    "                 [-0.5,-numpy.sqrt(3.0)/2.0],\n",
    "                 [0.0,-1.0],\n",
    "                 [0.5,-numpy.sqrt(3.0)/2.0],\n",
    "                 [numpy.sqrt(3.0)/2.0,-0.5],\n",
    "                 [1.0,0.0]])\n",
    "v = numpy.array([numpy.sqrt(3.0)/2.0,0.5])\n",
    "\n",
    "theta_u = myatan(u[:,0],u[:,1])\n",
    "theta_v = numpy.arctan2(v[1],v[0])\n",
    "\n",
    "theta_uv_exp = theta_u - theta_v\n",
    "\n",
    "theta_uv_dot = myacos(numpy.dot(u,v)/(numpy.linalg.norm(u,axis=1)*numpy.linalg.norm(v)))\n",
    "theta_uv_cross = myasin(numpy.linalg.norm( numpy.cross(pback(u,0),pback(v,0)), axis=1 )/(numpy.linalg.norm(u,axis=1)*numpy.linalg.norm(v)))\n",
    "\n",
    "print('vector v = ' + str(v))\n",
    "print('    angle with +x = {:g}'.format(to_deg(theta_v)))\n",
    "print('')\n",
    "print('each u vector angles with +x')\n",
    "print(to_deg(theta_u))\n",
    "print('')\n",
    "print('expected angles between u and v: th_u - th_v')\n",
    "print(to_deg(theta_uv_exp))\n",
    "print('')\n",
    "print('angles from u.v:')\n",
    "print(to_deg(theta_uv_dot))\n",
    "print('')\n",
    "print('angles from u x v:')\n",
    "print(to_deg(theta_uv_cross))"
   ]
  },
  {
   "cell_type": "code",
   "execution_count": 85,
   "metadata": {},
   "outputs": [
    {
     "output_type": "stream",
     "name": "stdout",
     "text": [
      "[0.5       0.8660254]\n[0.8660254 0.5      ]\n"
     ]
    },
    {
     "output_type": "execute_result",
     "data": {
      "text/plain": [
       "array([0.       , 0.5      , 0.8660254, 1.       , 0.8660254, 0.5      ,\n",
       "       0.       , 0.5      , 0.8660254, 1.       , 0.8660254, 0.5      ])"
      ]
     },
     "metadata": {},
     "execution_count": 85
    }
   ],
   "source": [
    "print(u[1])\n",
    "print(v)\n",
    "\n",
    "numpy.linalg.norm(numpy.cross(pback(u,0),pback(v,0)),axis=1)"
   ]
  },
  {
   "cell_type": "code",
   "execution_count": 81,
   "metadata": {},
   "outputs": [
    {
     "output_type": "execute_result",
     "data": {
      "text/plain": [
       "array([[ 0.,  1.,  2.,  4.],\n",
       "       [ 3.,  4.,  5.,  4.],\n",
       "       [ 6.,  7.,  8.,  4.],\n",
       "       [ 9., 10., 11.,  4.],\n",
       "       [12., 13., 14.,  4.]])"
      ]
     },
     "metadata": {},
     "execution_count": 81
    }
   ],
   "source": [
    "\n",
    "\n",
    "pback(numpy.array([1,2,3]),4)\n",
    "pback(numpy.array([1,2,3]).reshape((1,3)),4)\n",
    "pback(numpy.array([1,2,3]).reshape((3,1)),4)\n",
    "pback(numpy.arange(15).reshape((5,3)),4,ascol=True)"
   ]
  },
  {
   "cell_type": "code",
   "execution_count": 11,
   "metadata": {},
   "outputs": [
    {
     "output_type": "execute_result",
     "data": {
      "text/plain": [
       "array([], dtype=float64)"
      ]
     },
     "metadata": {},
     "execution_count": 11
    }
   ],
   "source": [
    "numpy.arange(10).astype(float)[numpy.array([],dtype=int)]"
   ]
  },
  {
   "cell_type": "code",
   "execution_count": 7,
   "metadata": {},
   "outputs": [
    {
     "output_type": "execute_result",
     "data": {
      "text/plain": [
       "array([ True,  True,  True, False, False, False, False, False, False,\n",
       "       False])"
      ]
     },
     "metadata": {},
     "execution_count": 7
    }
   ],
   "source": [
    "numpy.logical_not( numpy.arange(10)>2)"
   ]
  },
  {
   "cell_type": "code",
   "execution_count": null,
   "metadata": {},
   "outputs": [],
   "source": []
  }
 ],
 "metadata": {
  "kernelspec": {
   "display_name": "Python 3",
   "language": "python",
   "name": "python3"
  },
  "language_info": {
   "codemirror_mode": {
    "name": "ipython",
    "version": 3
   },
   "file_extension": ".py",
   "mimetype": "text/x-python",
   "name": "python",
   "nbconvert_exporter": "python",
   "pygments_lexer": "ipython3",
   "version": "3.8.2-final"
  }
 },
 "nbformat": 4,
 "nbformat_minor": 4
}